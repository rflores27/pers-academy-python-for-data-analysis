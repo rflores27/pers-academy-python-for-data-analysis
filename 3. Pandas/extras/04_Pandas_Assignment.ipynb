{
 "cells": [
  {
   "cell_type": "markdown",
   "id": "077d01fd",
   "metadata": {},
   "source": [
    "<img src=\"../images/Pandas_Assignment/assignment.png\" width=\"240\" height=\"240\" align=\"right\"/>\n",
    "\n",
    "# Pandas Assignment\n",
    "\n",
    "\n",
    "Now that you have some key skills/methods under your belt, use them to solve the following problems. You will need to use the key methods:\n",
    "\n",
    "- `.loc[]`\n",
    "- `.groupby()`\n",
    "- `.agg()`\n",
    "- `.assign()`\n",
    "\n",
    "**Assignments:**\n",
    "\n",
    "- [Find the missing chickens](#ex-1)\n",
    "- [Find the heaviest chicken per diet](#ex-2)\n",
    "- [Find the biggest grower?](#ex-3)"
   ]
  },
  {
   "cell_type": "code",
   "execution_count": 1,
   "id": "50440bd2",
   "metadata": {},
   "outputs": [],
   "source": [
    "import pandas as pd\n",
    "\n",
    "chickweight = (\n",
    "    pd.read_csv('../data/chickweight.csv')\n",
    "    .rename(str.lower, axis='columns')\n",
    ")"
   ]
  },
  {
   "cell_type": "markdown",
   "id": "adab9a26",
   "metadata": {
    "lines_to_next_cell": 0
   },
   "source": [
    "<a id='ex-1'></a>\n",
    "\n",
    "## Assignments\n",
    "\n",
    "<img src=../images/Pandas_Assignment/chicken-run.jpeg width=200px align=right>\n",
    "\n",
    "### 1. Find the missing chickens\n",
    "\n",
    "There are some chickens that left the study prematurely. Maybe they escaped? Find them! \n",
    "\n",
    "Hint: You can first use `.describe()` to find some clues and use `.groupby()` to get your answer!\n",
    "\n",
    "Can you also find which diet were they on?"
   ]
  },
  {
   "cell_type": "code",
   "execution_count": null,
   "id": "1a89e8aa",
   "metadata": {},
   "outputs": [],
   "source": []
  },
  {
   "cell_type": "markdown",
   "id": "b90eaed6",
   "metadata": {
    "lines_to_next_cell": 0
   },
   "source": [
    "<details>\n",
    "    \n",
    "  <summary><span style=\"color:blue;font-weight:bold\">CLICK HERE FOR HINT</span></summary>\n",
    "\n",
    "*You can perform a `.loc[]` on the output of a groupby!*\n",
    "\n",
    "- Do `chickweight.describe()` and take a note on what the maximum value for `time` is\n",
    "- Find the last time entry for each chicken by grouping by `chick` and find the `.max()` of `time`\n",
    "- Perform a `.loc[]` on the resulting dataframe to return only the rows where the maximum time is less than 21\n",
    "    \n",
    "Needed methods:\n",
    "    \n",
    "- `.groupby()`\n",
    "- `.max()`\n",
    "- `.loc[]`\n",
    "\n",
    "</details>"
   ]
  },
  {
   "cell_type": "markdown",
   "id": "6837682f",
   "metadata": {},
   "source": [
    "<a id='ex-2'></a>\n",
    "### 2. Find the fattest chicken per diet\n",
    "\n",
    "There are four diets and in each there is one chicken who came out on top, as the heaviest chicken. Find the weight that those chickens were, and their *corresponding* chicken ID!"
   ]
  },
  {
   "cell_type": "code",
   "execution_count": null,
   "id": "2391b9b1",
   "metadata": {},
   "outputs": [],
   "source": []
  },
  {
   "cell_type": "markdown",
   "id": "2d7c9a86",
   "metadata": {},
   "source": [
    "<details>\n",
    "    \n",
    "  <summary><span style=\"color:blue;font-weight:bold\">CLICK HERE FOR HINT</span></summary>\n",
    "  \n",
    "Note that the following **does not** give the answer: \n",
    "```python\n",
    "chickweight.groupby('diet').max()\n",
    "``` \n",
    "You will see the heaviest weight but it will **not** give the correct chicken id!\n",
    "    \n",
    "Instead: \n",
    "- Sort the data so tha the heaviest chickens are at the top of the data\n",
    "- Perform a groupby after sorting and select the first entry from each group\n",
    "    \n",
    "Needed methods:\n",
    "    \n",
    "- `.sort_values()`\n",
    "- `.groupby()`\n",
    "- `.first()`\n",
    "\n",
    "</details>"
   ]
  },
  {
   "cell_type": "markdown",
   "id": "3a905274",
   "metadata": {},
   "source": [
    "### 3. Find the best grower?\n",
    "\n",
    "Which chicken grew the most compared to its starting weight? For example chicken 1 started at `42g` and ended on `205g`, so it grew `4.9x` as much (`205÷42`).\n",
    "\n",
    "Do this calculation for each chicken and find the best grower!"
   ]
  },
  {
   "cell_type": "code",
   "execution_count": null,
   "id": "d5234a2c",
   "metadata": {},
   "outputs": [],
   "source": []
  },
  {
   "cell_type": "markdown",
   "id": "16be7196",
   "metadata": {},
   "source": [
    "<details>\n",
    "    \n",
    "  <summary><span style=\"color:blue;font-weight:bold\">CLICK HERE FOR HINT</span></summary>\n",
    "  \n",
    "*You can create a new column* after *you perform a groupby!*\n",
    "    \n",
    "- Group the data for each `chick`\n",
    "- Find the first and last weight for each `chick`\n",
    "- Create a new column that find the growth rate (last weight / first weight)\n",
    "- Sort the data by the new column\n",
    "    \n",
    "    \n",
    "Needed methods:\n",
    "    \n",
    "- `.groupby()`\n",
    "- `.agg()`\n",
    "- `.assign()`\n",
    "- `.sort_values()`\n",
    "\n",
    "\n",
    "</details>"
   ]
  },
  {
   "cell_type": "markdown",
   "id": "51250f39",
   "metadata": {},
   "source": [
    "**Answers:** Uncomment and run the below cells to see potential solutions"
   ]
  },
  {
   "cell_type": "code",
   "execution_count": null,
   "id": "129378c1",
   "metadata": {
    "lines_to_next_cell": 2
   },
   "outputs": [],
   "source": [
    "# %load ../answers/Pandas_Assignment/dead-chickens.py"
   ]
  },
  {
   "cell_type": "code",
   "execution_count": null,
   "id": "ca3a4621",
   "metadata": {
    "lines_to_next_cell": 3
   },
   "outputs": [],
   "source": [
    "# %load ../answers/Pandas_Assignment/fattest-chicken.py"
   ]
  },
  {
   "cell_type": "code",
   "execution_count": null,
   "id": "0ee99224",
   "metadata": {},
   "outputs": [],
   "source": [
    "# %load ../answers/Pandas_Assignment/best-grower.py"
   ]
  }
 ],
 "metadata": {
  "kernelspec": {
   "display_name": "Python 3",
   "language": "python",
   "name": "python3"
  },
  "language_info": {
   "codemirror_mode": {
    "name": "ipython",
    "version": 3
   },
   "file_extension": ".py",
   "mimetype": "text/x-python",
   "name": "python",
   "nbconvert_exporter": "python",
   "pygments_lexer": "ipython3",
   "version": "3.12.1"
  }
 },
 "nbformat": 4,
 "nbformat_minor": 5
}
